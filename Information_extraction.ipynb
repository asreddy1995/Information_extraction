{
 "cells": [
  {
   "cell_type": "code",
   "execution_count": null,
   "id": "bd21f868",
   "metadata": {},
   "outputs": [],
   "source": [
    "import re"
   ]
  },
  {
   "cell_type": "code",
   "execution_count": null,
   "id": "a5e518c3",
   "metadata": {},
   "outputs": [],
   "source": [
    "import pandas as pd"
   ]
  },
  {
   "cell_type": "code",
   "execution_count": 23,
   "id": "c51ed8cf",
   "metadata": {},
   "outputs": [],
   "source": [
    "import nltk"
   ]
  },
  {
   "cell_type": "code",
   "execution_count": 24,
   "id": "108ccf63",
   "metadata": {},
   "outputs": [],
   "source": [
    "import spacy"
   ]
  },
  {
   "cell_type": "code",
   "execution_count": 25,
   "id": "bd644626",
   "metadata": {},
   "outputs": [],
   "source": [
    "import math"
   ]
  },
  {
   "cell_type": "code",
   "execution_count": 26,
   "id": "66160320",
   "metadata": {},
   "outputs": [],
   "source": [
    "import numpy as np"
   ]
  },
  {
   "cell_type": "code",
   "execution_count": 27,
   "id": "5442bafa",
   "metadata": {},
   "outputs": [],
   "source": [
    "from tqdm import tqdm"
   ]
  },
  {
   "cell_type": "code",
   "execution_count": 28,
   "id": "d9c85393",
   "metadata": {},
   "outputs": [],
   "source": [
    "from spacy.matcher import Matcher"
   ]
  },
  {
   "cell_type": "code",
   "execution_count": 29,
   "id": "d4e65326",
   "metadata": {},
   "outputs": [],
   "source": [
    "from spacy.tokens import Span"
   ]
  },
  {
   "cell_type": "code",
   "execution_count": 30,
   "id": "f15a7ffd",
   "metadata": {},
   "outputs": [],
   "source": [
    "from spacy import displacy"
   ]
  },
  {
   "cell_type": "code",
   "execution_count": 31,
   "id": "338ac2e2",
   "metadata": {},
   "outputs": [],
   "source": [
    "pd.set_option('display.max_colwidth', 200)"
   ]
  },
  {
   "cell_type": "code",
   "execution_count": 32,
   "id": "17f8d8bf",
   "metadata": {},
   "outputs": [
    {
     "name": "stdout",
     "output_type": "stream",
     "text": [
      "Requirement already satisfied: spacy in c:\\users\\my pc\\anaconda3\\anaconda\\envs\\tensorflow\\lib\\site-packages (3.0.6)\n",
      "Requirement already satisfied: preshed<3.1.0,>=3.0.2 in c:\\users\\my pc\\anaconda3\\anaconda\\envs\\tensorflow\\lib\\site-packages (from spacy) (3.0.5)\n",
      "Requirement already satisfied: catalogue<2.1.0,>=2.0.3 in c:\\users\\my pc\\anaconda3\\anaconda\\envs\\tensorflow\\lib\\site-packages (from spacy) (2.0.3)\n",
      "Requirement already satisfied: blis<0.8.0,>=0.4.0 in c:\\users\\my pc\\anaconda3\\anaconda\\envs\\tensorflow\\lib\\site-packages (from spacy) (0.7.4)\n",
      "Requirement already satisfied: numpy>=1.15.0 in c:\\users\\my pc\\anaconda3\\anaconda\\envs\\tensorflow\\lib\\site-packages (from spacy) (1.20.1)\n",
      "Requirement already satisfied: jinja2 in c:\\users\\my pc\\anaconda3\\anaconda\\envs\\tensorflow\\lib\\site-packages (from spacy) (2.11.3)\n",
      "Requirement already satisfied: murmurhash<1.1.0,>=0.28.0 in c:\\users\\my pc\\anaconda3\\anaconda\\envs\\tensorflow\\lib\\site-packages (from spacy) (1.0.5)\n",
      "Requirement already satisfied: tqdm<5.0.0,>=4.38.0 in c:\\users\\my pc\\anaconda3\\anaconda\\envs\\tensorflow\\lib\\site-packages (from spacy) (4.60.0)\n",
      "Requirement already satisfied: thinc<8.1.0,>=8.0.3 in c:\\users\\my pc\\anaconda3\\anaconda\\envs\\tensorflow\\lib\\site-packages (from spacy) (8.0.3)\n",
      "Requirement already satisfied: requests<3.0.0,>=2.13.0 in c:\\users\\my pc\\anaconda3\\anaconda\\envs\\tensorflow\\lib\\site-packages (from spacy) (2.25.1)\n",
      "Requirement already satisfied: spacy-legacy<3.1.0,>=3.0.4 in c:\\users\\my pc\\anaconda3\\anaconda\\envs\\tensorflow\\lib\\site-packages (from spacy) (3.0.5)\n",
      "Requirement already satisfied: pydantic<1.8.0,>=1.7.1 in c:\\users\\my pc\\anaconda3\\anaconda\\envs\\tensorflow\\lib\\site-packages (from spacy) (1.7.3)\n",
      "Requirement already satisfied: setuptools in c:\\users\\my pc\\anaconda3\\anaconda\\envs\\tensorflow\\lib\\site-packages (from spacy) (52.0.0.post20210125)\n",
      "Requirement already satisfied: packaging>=20.0 in c:\\users\\my pc\\anaconda3\\anaconda\\envs\\tensorflow\\lib\\site-packages (from spacy) (20.9)\n",
      "Requirement already satisfied: pathy>=0.3.5 in c:\\users\\my pc\\anaconda3\\anaconda\\envs\\tensorflow\\lib\\site-packages (from spacy) (0.5.2)\n",
      "Requirement already satisfied: wasabi<1.1.0,>=0.8.1 in c:\\users\\my pc\\anaconda3\\anaconda\\envs\\tensorflow\\lib\\site-packages (from spacy) (0.8.2)\n",
      "Requirement already satisfied: srsly<3.0.0,>=2.4.1 in c:\\users\\my pc\\anaconda3\\anaconda\\envs\\tensorflow\\lib\\site-packages (from spacy) (2.4.1)\n",
      "Requirement already satisfied: typer<0.4.0,>=0.3.0 in c:\\users\\my pc\\anaconda3\\anaconda\\envs\\tensorflow\\lib\\site-packages (from spacy) (0.3.2)\n",
      "Requirement already satisfied: cymem<2.1.0,>=2.0.2 in c:\\users\\my pc\\anaconda3\\anaconda\\envs\\tensorflow\\lib\\site-packages (from spacy) (2.0.5)\n",
      "Requirement already satisfied: pyparsing>=2.0.2 in c:\\users\\my pc\\anaconda3\\anaconda\\envs\\tensorflow\\lib\\site-packages (from packaging>=20.0->spacy) (2.4.7)\n",
      "Requirement already satisfied: smart-open<4.0.0,>=2.2.0 in c:\\users\\my pc\\anaconda3\\anaconda\\envs\\tensorflow\\lib\\site-packages (from pathy>=0.3.5->spacy) (3.0.0)\n",
      "Requirement already satisfied: urllib3<1.27,>=1.21.1 in c:\\users\\my pc\\anaconda3\\anaconda\\envs\\tensorflow\\lib\\site-packages (from requests<3.0.0,>=2.13.0->spacy) (1.26.4)\n",
      "Requirement already satisfied: certifi>=2017.4.17 in c:\\users\\my pc\\anaconda3\\anaconda\\envs\\tensorflow\\lib\\site-packages (from requests<3.0.0,>=2.13.0->spacy) (2020.12.5)\n",
      "Requirement already satisfied: chardet<5,>=3.0.2 in c:\\users\\my pc\\anaconda3\\anaconda\\envs\\tensorflow\\lib\\site-packages (from requests<3.0.0,>=2.13.0->spacy) (3.0.4)\n",
      "Requirement already satisfied: idna<3,>=2.5 in c:\\users\\my pc\\anaconda3\\anaconda\\envs\\tensorflow\\lib\\site-packages (from requests<3.0.0,>=2.13.0->spacy) (2.10)\n",
      "Requirement already satisfied: click<7.2.0,>=7.1.1 in c:\\users\\my pc\\anaconda3\\anaconda\\envs\\tensorflow\\lib\\site-packages (from typer<0.4.0,>=0.3.0->spacy) (7.1.2)\n",
      "Requirement already satisfied: MarkupSafe>=0.23 in c:\\users\\my pc\\anaconda3\\anaconda\\envs\\tensorflow\\lib\\site-packages (from jinja2->spacy) (1.1.1)\n"
     ]
    }
   ],
   "source": [
    "!pip install spacy"
   ]
  },
  {
   "cell_type": "code",
   "execution_count": 45,
   "id": "eec23f02",
   "metadata": {},
   "outputs": [
    {
     "name": "stdout",
     "output_type": "stream",
     "text": [
      "Requirement already satisfied: spacy in c:\\users\\my pc\\anaconda3\\anaconda\\envs\\tensorflow\\lib\\site-packages (3.0.6)\n",
      "Requirement already satisfied: srsly<3.0.0,>=2.4.1 in c:\\users\\my pc\\anaconda3\\anaconda\\envs\\tensorflow\\lib\\site-packages (from spacy) (2.4.1)\n",
      "Requirement already satisfied: numpy>=1.15.0 in c:\\users\\my pc\\anaconda3\\anaconda\\envs\\tensorflow\\lib\\site-packages (from spacy) (1.20.1)\n",
      "Requirement already satisfied: preshed<3.1.0,>=3.0.2 in c:\\users\\my pc\\anaconda3\\anaconda\\envs\\tensorflow\\lib\\site-packages (from spacy) (3.0.5)\n",
      "Requirement already satisfied: cymem<2.1.0,>=2.0.2 in c:\\users\\my pc\\anaconda3\\anaconda\\envs\\tensorflow\\lib\\site-packages (from spacy) (2.0.5)\n",
      "Requirement already satisfied: spacy-legacy<3.1.0,>=3.0.4 in c:\\users\\my pc\\anaconda3\\anaconda\\envs\\tensorflow\\lib\\site-packages (from spacy) (3.0.5)\n",
      "Requirement already satisfied: packaging>=20.0 in c:\\users\\my pc\\anaconda3\\anaconda\\envs\\tensorflow\\lib\\site-packages (from spacy) (20.9)\n",
      "Requirement already satisfied: typer<0.4.0,>=0.3.0 in c:\\users\\my pc\\anaconda3\\anaconda\\envs\\tensorflow\\lib\\site-packages (from spacy) (0.3.2)\n",
      "Requirement already satisfied: thinc<8.1.0,>=8.0.3 in c:\\users\\my pc\\anaconda3\\anaconda\\envs\\tensorflow\\lib\\site-packages (from spacy) (8.0.3)\n",
      "Requirement already satisfied: wasabi<1.1.0,>=0.8.1 in c:\\users\\my pc\\anaconda3\\anaconda\\envs\\tensorflow\\lib\\site-packages (from spacy) (0.8.2)\n",
      "Requirement already satisfied: blis<0.8.0,>=0.4.0 in c:\\users\\my pc\\anaconda3\\anaconda\\envs\\tensorflow\\lib\\site-packages (from spacy) (0.7.4)\n",
      "Requirement already satisfied: pathy>=0.3.5 in c:\\users\\my pc\\anaconda3\\anaconda\\envs\\tensorflow\\lib\\site-packages (from spacy) (0.5.2)\n",
      "Requirement already satisfied: requests<3.0.0,>=2.13.0 in c:\\users\\my pc\\anaconda3\\anaconda\\envs\\tensorflow\\lib\\site-packages (from spacy) (2.25.1)\n",
      "Requirement already satisfied: jinja2 in c:\\users\\my pc\\anaconda3\\anaconda\\envs\\tensorflow\\lib\\site-packages (from spacy) (2.11.3)\n",
      "Requirement already satisfied: pydantic<1.8.0,>=1.7.1 in c:\\users\\my pc\\anaconda3\\anaconda\\envs\\tensorflow\\lib\\site-packages (from spacy) (1.7.3)\n",
      "Requirement already satisfied: murmurhash<1.1.0,>=0.28.0 in c:\\users\\my pc\\anaconda3\\anaconda\\envs\\tensorflow\\lib\\site-packages (from spacy) (1.0.5)\n",
      "Requirement already satisfied: setuptools in c:\\users\\my pc\\anaconda3\\anaconda\\envs\\tensorflow\\lib\\site-packages (from spacy) (52.0.0.post20210125)\n",
      "Requirement already satisfied: catalogue<2.1.0,>=2.0.3 in c:\\users\\my pc\\anaconda3\\anaconda\\envs\\tensorflow\\lib\\site-packages (from spacy) (2.0.3)\n",
      "Requirement already satisfied: tqdm<5.0.0,>=4.38.0 in c:\\users\\my pc\\anaconda3\\anaconda\\envs\\tensorflow\\lib\\site-packages (from spacy) (4.60.0)\n",
      "Requirement already satisfied: pyparsing>=2.0.2 in c:\\users\\my pc\\anaconda3\\anaconda\\envs\\tensorflow\\lib\\site-packages (from packaging>=20.0->spacy) (2.4.7)\n",
      "Requirement already satisfied: smart-open<4.0.0,>=2.2.0 in c:\\users\\my pc\\anaconda3\\anaconda\\envs\\tensorflow\\lib\\site-packages (from pathy>=0.3.5->spacy) (3.0.0)\n",
      "Requirement already satisfied: idna<3,>=2.5 in c:\\users\\my pc\\anaconda3\\anaconda\\envs\\tensorflow\\lib\\site-packages (from requests<3.0.0,>=2.13.0->spacy) (2.10)\n",
      "Requirement already satisfied: chardet<5,>=3.0.2 in c:\\users\\my pc\\anaconda3\\anaconda\\envs\\tensorflow\\lib\\site-packages (from requests<3.0.0,>=2.13.0->spacy) (3.0.4)\n",
      "Requirement already satisfied: urllib3<1.27,>=1.21.1 in c:\\users\\my pc\\anaconda3\\anaconda\\envs\\tensorflow\\lib\\site-packages (from requests<3.0.0,>=2.13.0->spacy) (1.26.4)\n",
      "Requirement already satisfied: certifi>=2017.4.17 in c:\\users\\my pc\\anaconda3\\anaconda\\envs\\tensorflow\\lib\\site-packages (from requests<3.0.0,>=2.13.0->spacy) (2020.12.5)\n",
      "Requirement already satisfied: click<7.2.0,>=7.1.1 in c:\\users\\my pc\\anaconda3\\anaconda\\envs\\tensorflow\\lib\\site-packages (from typer<0.4.0,>=0.3.0->spacy) (7.1.2)\n",
      "Requirement already satisfied: MarkupSafe>=0.23 in c:\\users\\my pc\\anaconda3\\anaconda\\envs\\tensorflow\\lib\\site-packages (from jinja2->spacy) (1.1.1)\n"
     ]
    }
   ],
   "source": [
    "!pip install spacy --user"
   ]
  },
  {
   "cell_type": "code",
   "execution_count": null,
   "id": "a938dacd",
   "metadata": {},
   "outputs": [],
   "source": [
    "!python -m spacy download en_core_web_sm\n"
   ]
  },
  {
   "cell_type": "code",
   "execution_count": null,
   "id": "9deddab2",
   "metadata": {},
   "outputs": [],
   "source": [
    "import spacy\n",
    "nlp = spacy.load(\"en_core_web_sm\")"
   ]
  },
  {
   "cell_type": "code",
   "execution_count": null,
   "id": "6afad170",
   "metadata": {},
   "outputs": [],
   "source": [
    "text = \"GDP in developing countries such as Vietnam will continue growing at a high rate.\" \n"
   ]
  },
  {
   "cell_type": "code",
   "execution_count": null,
   "id": "9b39c3f9",
   "metadata": {},
   "outputs": [],
   "source": [
    "doc=nlp(text)"
   ]
  },
  {
   "cell_type": "code",
   "execution_count": null,
   "id": "a2a9f35e",
   "metadata": {},
   "outputs": [],
   "source": [
    "for tok in doc:\n",
    "    print(tok.text, tok.dep_)"
   ]
  },
  {
   "cell_type": "code",
   "execution_count": null,
   "id": "7f1c3d7c",
   "metadata": {},
   "outputs": [],
   "source": [
    "pattern=[{'POS':'NOUN'},\n",
    "        {'LOWER':'such'},\n",
    "        {'LOWER':'as'},\n",
    "        {'POS':'PROPN'}]\n"
   ]
  },
  {
   "cell_type": "code",
   "execution_count": null,
   "id": "60fb154a",
   "metadata": {},
   "outputs": [],
   "source": [
    "#lets extract the pattern from the text"
   ]
  },
  {
   "cell_type": "code",
   "execution_count": null,
   "id": "a10666ed",
   "metadata": {},
   "outputs": [],
   "source": [
    "matcher=Matcher(nlp.vocab)\n",
    "matcher.add('matching_1',None, pattern)\n",
    "matches=matcher(doc)\n",
    "span=doc[matches[0][1]:matches[0][2]]\n",
    "print(span.text)"
   ]
  },
  {
   "cell_type": "code",
   "execution_count": null,
   "id": "9aeec05d",
   "metadata": {},
   "outputs": [],
   "source": [
    "matcher=Matcher(nlp.vocab)"
   ]
  },
  {
   "cell_type": "code",
   "execution_count": null,
   "id": "e943c361",
   "metadata": {},
   "outputs": [],
   "source": []
  }
 ],
 "metadata": {
  "kernelspec": {
   "display_name": "Python 3",
   "language": "python",
   "name": "python3"
  },
  "language_info": {
   "codemirror_mode": {
    "name": "ipython",
    "version": 3
   },
   "file_extension": ".py",
   "mimetype": "text/x-python",
   "name": "python",
   "nbconvert_exporter": "python",
   "pygments_lexer": "ipython3",
   "version": "3.8.8"
  }
 },
 "nbformat": 4,
 "nbformat_minor": 5
}
